{
 "cells": [
  {
   "cell_type": "code",
   "execution_count": null,
   "metadata": {
    "vscode": {
     "languageId": "plaintext"
    }
   },
   "outputs": [],
   "source": [
    "print(\"hello\")"
   ]
  },
  {
   "cell_type": "code",
   "execution_count": null,
   "metadata": {
    "vscode": {
     "languageId": "plaintext"
    }
   },
   "outputs": [],
   "source": [
    "import folium\n",
    "import pandas as pd\n",
    "import json\n",
    "\n",
    "def create_map_with_geojson(df_location, geo_column,  index):\n",
    "    # Accessing the GeoJSON data for the MultiPolygon from the dataframe\n",
    "    geojson_str = df_location[geo_column].iloc[index]\n",
    "\n",
    "    map_center = [24, 24]\n",
    "\n",
    "    # Create the map object\n",
    "    m = folium.Map(location=map_center, zoom_start=5)\n",
    "\n",
    "    # Function to add GeoJSON data to the map\n",
    "    def add_geojson_to_map(m, geojson_data):\n",
    "        folium.GeoJson(\n",
    "            geojson_data,\n",
    "            style_function=lambda x: {\n",
    "                'fillColor': 'orange',\n",
    "                'color': 'red',\n",
    "                'weight': 2,\n",
    "                'fillOpacity': 0.5,\n",
    "            }\n",
    "        ).add_to(m)\n",
    "\n",
    "    # Adding the GeoJSON data to the map\n",
    "    add_geojson_to_map(m, geojson_str)\n",
    "    \n",
    "    return m"
   ]
  },
  {
   "cell_type": "code",
   "execution_count": null,
   "metadata": {
    "vscode": {
     "languageId": "plaintext"
    }
   },
   "outputs": [],
   "source": [
    "if __name__ == \"__main__\":\n",
    "    df_location = pd.read_csv(\"testing_eventlocation.csv\")\n",
    "    df_location= df_location.dropna(subset=['Geometry'])\n",
    "    mx = create_map_with_geojson(df_location, geo_column='Geometry', index=1)\n",
    "    mx.save('map.html')\n",
    "    print(\"Map saved as 'map.html'. Open this file in a web browser to view the map.\")"
   ]
  }
 ],
 "metadata": {
  "language_info": {
   "name": "python"
  }
 },
 "nbformat": 4,
 "nbformat_minor": 2
}
